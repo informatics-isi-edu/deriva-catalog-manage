{
 "cells": [
  {
   "cell_type": "markdown",
   "metadata": {},
   "source": [
    "Prior to running this notebook you will need to use the DerivaAuth client to log into demo.derivacloud.org"
   ]
  },
  {
   "cell_type": "code",
   "execution_count": 24,
   "metadata": {
    "pycharm": {
     "is_executing": false
    }
   },
   "outputs": [
    {
     "name": "stdout",
     "text": [
      "The autoreload extension is already loaded. To reload it, use:\n  %reload_ext autoreload\n"
     ],
     "output_type": "stream"
    }
   ],
   "source": [
    "%load_ext autoreload\n",
    "%autoreload 2"
   ]
  },
  {
   "cell_type": "code",
   "execution_count": 25,
   "metadata": {
    "pycharm": {
     "is_executing": false
    }
   },
   "outputs": [],
   "source": [
    "from deriva.utils.catalog.components.deriva_model import DerivaCatalog\n",
    "from demo_catalog import create_demo_catalog\n",
    "import IPython\n",
    "\n"
   ]
  },
  {
   "cell_type": "code",
   "execution_count": 26,
   "metadata": {
    "pycharm": {
     "is_executing": false
    }
   },
   "outputs": [
    {
     "name": "stderr",
     "text": [
      "2019-06-13 17:07:24,176 - INFO - Catalog_id is 8\n",
      "2019-06-13 17:07:24,177 - INFO - Configuring catalog....\n",
      "Validating public\n",
      "2019-06-13 17:07:24,391 - INFO - Validating public\n",
      "Validating table ERMrest_Client\n",
      "2019-06-13 17:07:24,430 - INFO - Validating table ERMrest_Client\n",
      "Validating table ERMrest_Group\n",
      "2019-06-13 17:07:24,471 - INFO - Validating table ERMrest_Group\n",
      "2019-06-13 17:07:24,593 - INFO - Configuring groups\n",
      "INFO deriva_model.DerivaCatalogConfigure._configure_www_schema: Configuring WWW schema\n",
      "2019-06-13 17:07:29,971 - INFO - Creating schema\n",
      "2019-06-13 17:07:30,080 - INFO - Creating tables....\n",
      "2019-06-13 17:07:33,836 - INFO - Creating asset tables....\n",
      "2019-06-13 17:07:36,392 - INFO - Linking tables....\n",
      "2019-06-13 17:07:49,064 - INFO - Completed chunk 1 size 3 in 0.1 sec.\n"
     ],
     "output_type": "stream"
    }
   ],
   "source": [
    "catalog = create_demo_catalog()"
   ]
  },
  {
   "cell_type": "code",
   "execution_count": 18,
   "metadata": {},
   "outputs": [
    {
     "data": {
      "text/html": [
       "\n",
       "        <iframe\n",
       "            width=\"700\"\n",
       "            height=\"350\"\n",
       "            src=\"https://demo.derivacloud.org/chaise/recordset/#7/Demo:Study\"\n",
       "            frameborder=\"0\"\n",
       "            allowfullscreen\n",
       "        ></iframe>\n",
       "        "
      ],
      "text/plain": [
       "<IPython.lib.display.IFrame at 0x10914e6d8>"
      ]
     },
     "execution_count": 18,
     "metadata": {},
     "output_type": "execute_result"
    }
   ],
   "source": [
    "IPython.display.IFrame(catalog['Demo']['Study'].chaise_uri, width=700, height=350)"
   ]
  },
  {
   "cell_type": "code",
   "execution_count": 33,
   "metadata": {
    "pycharm": {
     "is_executing": false
    }
   },
   "outputs": [
    {
     "traceback": [
      "\u001b[0;31m---------------------------------------------------------------------------\u001b[0m",
      "\u001b[0;31mAttributeError\u001b[0m                            Traceback (most recent call last)",
      "\u001b[0;32m<ipython-input-33-7ac17c40006e>\u001b[0m in \u001b[0;36m<module>\u001b[0;34m\u001b[0m\n\u001b[0;32m----> 1\u001b[0;31m \u001b[0mprint\u001b[0m\u001b[0;34m(\u001b[0m\u001b[0mcatalog\u001b[0m\u001b[0;34m[\u001b[0m\u001b[0;34m'Demo'\u001b[0m\u001b[0;34m]\u001b[0m\u001b[0;34m[\u001b[0m\u001b[0;34m'Study'\u001b[0m\u001b[0;34m]\u001b[0m\u001b[0;34m.\u001b[0m\u001b[0m_repr_html_\u001b[0m\u001b[0;34m(\u001b[0m\u001b[0;34m)\u001b[0m\u001b[0;34m)\u001b[0m\u001b[0;34m\u001b[0m\u001b[0;34m\u001b[0m\u001b[0m\n\u001b[0m",
      "\u001b[0;31mAttributeError\u001b[0m: 'DerivaTableConfigure' object has no attribute '_repr_html_'"
     ],
     "ename": "AttributeError",
     "evalue": "'DerivaTableConfigure' object has no attribute '_repr_html_'",
     "output_type": "error"
    }
   ],
   "source": [
    "print(catalog['Demo']['Study']._repr_html_())"
   ]
  },
  {
   "cell_type": "code",
   "execution_count": null,
   "metadata": {},
   "outputs": [],
   "source": [
    "delete_demo_catalog()"
   ]
  }
 ],
 "metadata": {
  "kernelspec": {
   "name": "pycharm-621b679d",
   "language": "python",
   "display_name": "PyCharm (deriva-catalog-manage)"
  },
  "language_info": {
   "codemirror_mode": {
    "name": "ipython",
    "version": 3
   },
   "file_extension": ".py",
   "mimetype": "text/x-python",
   "name": "python",
   "nbconvert_exporter": "python",
   "pygments_lexer": "ipython3",
   "version": "3.6.7"
  },
  "pycharm": {
   "stem_cell": {
    "cell_type": "raw",
    "source": [],
    "metadata": {
     "collapsed": false
    }
   }
  }
 },
 "nbformat": 4,
 "nbformat_minor": 2
}