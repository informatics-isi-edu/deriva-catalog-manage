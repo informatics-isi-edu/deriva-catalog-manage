{
 "cells": [
  {
   "cell_type": "markdown",
   "metadata": {},
   "source": [
    "Prior to running this notebook you will need to use the DerivaAuth client to log into demo.derivacloud.org"
   ]
  },
  {
   "cell_type": "code",
   "execution_count": 1,
   "metadata": {
    "pycharm": {
     "is_executing": false
    }
   },
   "outputs": [],
   "source": [
    "%load_ext autoreload\n",
    "%autoreload 2"
   ]
  },
  {
   "cell_type": "code",
   "execution_count": 2,
   "metadata": {},
   "outputs": [
    {
     "data": {
      "text/plain": [
       "['/Users/carl/Repos/Projects/deriva-catalog-manage',\n",
       " '/Users/carl/anaconda3/lib/python36.zip',\n",
       " '/Users/carl/anaconda3/lib/python3.6',\n",
       " '/Users/carl/anaconda3/lib/python3.6/lib-dynload',\n",
       " '',\n",
       " '/Users/carl/.local/lib/python3.6/site-packages',\n",
       " '/Users/carl/anaconda3/lib/python3.6/site-packages',\n",
       " '/Users/carl/anaconda3/lib/python3.6/site-packages/aeosa',\n",
       " '/Users/carl/anaconda3/lib/python3.6/site-packages/IPython/extensions',\n",
       " '/Users/carl/.ipython']"
      ]
     },
     "execution_count": 2,
     "metadata": {},
     "output_type": "execute_result"
    },
    {
     "data": {
      "text/plain": [
       "['/Users/carl/Repos/Projects/deriva-catalog-manage',\n",
       " '/Users/carl/anaconda3/lib/python36.zip',\n",
       " '/Users/carl/anaconda3/lib/python3.6',\n",
       " '/Users/carl/anaconda3/lib/python3.6/lib-dynload',\n",
       " '',\n",
       " '/Users/carl/.local/lib/python3.6/site-packages',\n",
       " '/Users/carl/anaconda3/lib/python3.6/site-packages',\n",
       " '/Users/carl/anaconda3/lib/python3.6/site-packages/aeosa',\n",
       " '/Users/carl/anaconda3/lib/python3.6/site-packages/IPython/extensions',\n",
       " '/Users/carl/.ipython']"
      ]
     },
     "execution_count": 2,
     "metadata": {},
     "output_type": "execute_result"
    }
   ],
   "source": [
    "import sys\n",
    "sys.path.insert(0, '/Users/carl/Repos/Projects/deriva-catalog-manage')"
   ]
  },
  {
   "cell_type": "code",
   "execution_count": 3,
   "metadata": {
    "pycharm": {
     "is_executing": false
    }
   },
   "outputs": [],
   "source": [
    "from deriva.utils.catalog.components.deriva_model import DerivaCatalog\n",
    "from demo_catalog import create_demo_catalog, delete_demo_catalog\n",
    "import deriva.utils.catalog.components.deriva_model as dm\n",
    "import IPython\n",
    "\n"
   ]
  },
  {
   "cell_type": "code",
   "execution_count": 5,
   "metadata": {
    "pycharm": {
     "is_executing": false
    },
    "scrolled": true
   },
   "outputs": [
    {
     "name": "stderr",
     "output_type": "stream",
     "text": [
      "2019-06-13 22:35:42,860 - INFO - Catalog_id is 9\n",
      "2019-06-13 22:35:42,861 - INFO - Configuring catalog....\n",
      "2019-06-13 22:35:42,860 - INFO - Catalog_id is 9\n",
      "2019-06-13 22:35:42,861 - INFO - Configuring catalog....\n",
      "Validating public\n",
      "2019-06-13 22:35:43,103 - INFO - Validating public\n",
      "Validating public\n",
      "2019-06-13 22:35:43,103 - INFO - Validating public\n",
      "Validating table ERMrest_Client\n",
      "Validating table ERMrest_Client\n",
      "2019-06-13 22:35:43,154 - INFO - Validating table ERMrest_Client\n",
      "2019-06-13 22:35:43,154 - INFO - Validating table ERMrest_Client\n",
      "Validating table ERMrest_Group\n",
      "Validating table ERMrest_Group\n",
      "2019-06-13 22:35:43,204 - INFO - Validating table ERMrest_Group\n",
      "2019-06-13 22:35:43,204 - INFO - Validating table ERMrest_Group\n",
      "2019-06-13 22:35:43,356 - INFO - Configuring groups\n",
      "2019-06-13 22:35:43,356 - INFO - Configuring groups\n",
      "INFO deriva_model.DerivaCatalogConfigure._configure_www_schema: Configuring WWW schema\n",
      "INFO deriva_model.DerivaCatalogConfigure._configure_www_schema: Configuring WWW schema\n",
      "2019-06-13 22:35:49,627 - INFO - Creating schema\n",
      "2019-06-13 22:35:49,627 - INFO - Creating schema\n",
      "2019-06-13 22:35:49,799 - INFO - Creating tables....\n",
      "2019-06-13 22:35:49,799 - INFO - Creating tables....\n",
      "2019-06-13 22:35:54,350 - INFO - Creating asset tables....\n",
      "2019-06-13 22:35:54,350 - INFO - Creating asset tables....\n",
      "2019-06-13 22:35:57,130 - INFO - Linking tables....\n",
      "2019-06-13 22:35:57,130 - INFO - Linking tables....\n",
      "2019-06-13 22:36:11,139 - INFO - Completed chunk 1 size 3 in 0.1 sec.\n",
      "2019-06-13 22:36:11,139 - INFO - Completed chunk 1 size 3 in 0.1 sec.\n"
     ]
    }
   ],
   "source": [
    "catalog = create_demo_catalog()"
   ]
  },
  {
   "cell_type": "code",
   "execution_count": null,
   "metadata": {},
   "outputs": [],
   "source": [
    "IPython.display.IFrame(catalog['Demo']['Study'].chaise_uri, width=700, height=350)"
   ]
  },
  {
   "cell_type": "code",
   "execution_count": 24,
   "metadata": {},
   "outputs": [
    {
     "data": {
      "text/html": [
       "<b>Catalog: test</b><br><table>\n",
       "<thead>\n",
       "<tr><th style=\"text-align: right;\">  </th><th>Schema Name  </th><th>Comment                                                </th></tr>\n",
       "</thead>\n",
       "<tbody>\n",
       "<tr><td style=\"text-align: right;\"> 0</td><td>public       </td><td>standard public schema                                 </td></tr>\n",
       "<tr><td style=\"text-align: right;\"> 1</td><td>WWW          </td><td>Schema for tables that will be displayed as web content</td></tr>\n",
       "<tr><td style=\"text-align: right;\"> 2</td><td>Demo         </td><td>                                                       </td></tr>\n",
       "</tbody>\n",
       "</table>"
      ],
      "text/plain": [
       "<deriva.utils.catalog.components.configure_catalog.DerivaCatalogConfigure at 0x107126dd8>"
      ]
     },
     "execution_count": 24,
     "metadata": {},
     "output_type": "execute_result"
    },
    {
     "data": {
      "text/html": [
       "<b>Catalog: test</b><br><table>\n",
       "<thead>\n",
       "<tr><th style=\"text-align: right;\">  </th><th>Schema Name  </th><th>Comment                                                </th></tr>\n",
       "</thead>\n",
       "<tbody>\n",
       "<tr><td style=\"text-align: right;\"> 0</td><td>public       </td><td>standard public schema                                 </td></tr>\n",
       "<tr><td style=\"text-align: right;\"> 1</td><td>WWW          </td><td>Schema for tables that will be displayed as web content</td></tr>\n",
       "<tr><td style=\"text-align: right;\"> 2</td><td>Demo         </td><td>                                                       </td></tr>\n",
       "</tbody>\n",
       "</table>"
      ],
      "text/plain": [
       "<deriva.utils.catalog.components.configure_catalog.DerivaCatalogConfigure at 0x107126dd8>"
      ]
     },
     "execution_count": 24,
     "metadata": {},
     "output_type": "execute_result"
    }
   ],
   "source": [
    "catalog"
   ]
  },
  {
   "cell_type": "code",
   "execution_count": 28,
   "metadata": {
    "pycharm": {
     "is_executing": false
    }
   },
   "outputs": [
    {
     "data": {
      "text/html": [
       "<b>Schema: Demo</b><br><table>\n",
       "<thead>\n",
       "<tr><th style=\"text-align: right;\">  </th><th>Table Name         </th><th>Comment                                  </th></tr>\n",
       "</thead>\n",
       "<tbody>\n",
       "<tr><td style=\"text-align: right;\"> 0</td><td>Study              </td><td>                                         </td></tr>\n",
       "<tr><td style=\"text-align: right;\"> 1</td><td>Experiment         </td><td>                                         </td></tr>\n",
       "<tr><td style=\"text-align: right;\"> 2</td><td>Replicate          </td><td>                                         </td></tr>\n",
       "<tr><td style=\"text-align: right;\"> 3</td><td>Specimen           </td><td>                                         </td></tr>\n",
       "<tr><td style=\"text-align: right;\"> 4</td><td>File               </td><td>Asset table.                             </td></tr>\n",
       "<tr><td style=\"text-align: right;\"> 5</td><td>Imaging            </td><td>Asset table.                             </td></tr>\n",
       "<tr><td style=\"text-align: right;\"> 6</td><td>Collection         </td><td>                                         </td></tr>\n",
       "<tr><td style=\"text-align: right;\"> 7</td><td>Collection_Specimen</td><td>Association table for Collection_Specimen</td></tr>\n",
       "<tr><td style=\"text-align: right;\"> 8</td><td>Collection_Study   </td><td>Association table for Collection_Study   </td></tr>\n",
       "<tr><td style=\"text-align: right;\"> 9</td><td>Specimen_Imaging   </td><td>Association table for Specimen_Imaging   </td></tr>\n",
       "<tr><td style=\"text-align: right;\">10</td><td>Experiment_Imaging </td><td>Association table for Experiment_Imaging </td></tr>\n",
       "<tr><td style=\"text-align: right;\">11</td><td>Anatomy            </td><td>A set of controlled vocabular terms.     </td></tr>\n",
       "<tr><td style=\"text-align: right;\">12</td><td>Specimen_Anatomy   </td><td>Association table for Specimen_Anatomy   </td></tr>\n",
       "</tbody>\n",
       "</table>"
      ],
      "text/plain": [
       "<deriva.utils.catalog.components.configure_catalog.DerivaSchemaConfigure at 0x107549390>"
      ]
     },
     "execution_count": 28,
     "metadata": {},
     "output_type": "execute_result"
    },
    {
     "data": {
      "text/html": [
       "<b>Schema: Demo</b><br><table>\n",
       "<thead>\n",
       "<tr><th style=\"text-align: right;\">  </th><th>Table Name         </th><th>Comment                                  </th></tr>\n",
       "</thead>\n",
       "<tbody>\n",
       "<tr><td style=\"text-align: right;\"> 0</td><td>Study              </td><td>                                         </td></tr>\n",
       "<tr><td style=\"text-align: right;\"> 1</td><td>Experiment         </td><td>                                         </td></tr>\n",
       "<tr><td style=\"text-align: right;\"> 2</td><td>Replicate          </td><td>                                         </td></tr>\n",
       "<tr><td style=\"text-align: right;\"> 3</td><td>Specimen           </td><td>                                         </td></tr>\n",
       "<tr><td style=\"text-align: right;\"> 4</td><td>File               </td><td>Asset table.                             </td></tr>\n",
       "<tr><td style=\"text-align: right;\"> 5</td><td>Imaging            </td><td>Asset table.                             </td></tr>\n",
       "<tr><td style=\"text-align: right;\"> 6</td><td>Collection         </td><td>                                         </td></tr>\n",
       "<tr><td style=\"text-align: right;\"> 7</td><td>Collection_Specimen</td><td>Association table for Collection_Specimen</td></tr>\n",
       "<tr><td style=\"text-align: right;\"> 8</td><td>Collection_Study   </td><td>Association table for Collection_Study   </td></tr>\n",
       "<tr><td style=\"text-align: right;\"> 9</td><td>Specimen_Imaging   </td><td>Association table for Specimen_Imaging   </td></tr>\n",
       "<tr><td style=\"text-align: right;\">10</td><td>Experiment_Imaging </td><td>Association table for Experiment_Imaging </td></tr>\n",
       "<tr><td style=\"text-align: right;\">11</td><td>Anatomy            </td><td>A set of controlled vocabular terms.     </td></tr>\n",
       "<tr><td style=\"text-align: right;\">12</td><td>Specimen_Anatomy   </td><td>Association table for Specimen_Anatomy   </td></tr>\n",
       "</tbody>\n",
       "</table>"
      ],
      "text/plain": [
       "<deriva.utils.catalog.components.configure_catalog.DerivaSchemaConfigure at 0x107549390>"
      ]
     },
     "execution_count": 28,
     "metadata": {},
     "output_type": "execute_result"
    }
   ],
   "source": [
    "catalog['Demo']"
   ]
  },
  {
   "cell_type": "code",
   "execution_count": 38,
   "metadata": {},
   "outputs": [
    {
     "data": {
      "text/html": [
       "<b>Table: Study</b><br>\n",
       "Columns<br>\n",
       "<table>\n",
       "<thead>\n",
       "<tr><th>Name       </th><th>Type       </th><th>NullOK  </th><th>Default  </th></tr>\n",
       "</thead>\n",
       "<tbody>\n",
       "<tr><td>RID        </td><td>ermrest_rid</td><td>False   </td><td>         </td></tr>\n",
       "<tr><td>RCT        </td><td>ermrest_rct</td><td>False   </td><td>         </td></tr>\n",
       "<tr><td>RMT        </td><td>ermrest_rmt</td><td>False   </td><td>         </td></tr>\n",
       "<tr><td>RCB        </td><td>ermrest_rcb</td><td>True    </td><td>         </td></tr>\n",
       "<tr><td>RMB        </td><td>ermrest_rmb</td><td>True    </td><td>         </td></tr>\n",
       "<tr><td>Title      </td><td>text       </td><td>True    </td><td>         </td></tr>\n",
       "<tr><td>Description</td><td>text       </td><td>True    </td><td>         </td></tr>\n",
       "<tr><td>Owner      </td><td>text       </td><td>True    </td><td>         </td></tr>\n",
       "</tbody>\n",
       "</table>\n",
       "<br>\n",
       "Keys:\n",
       "<table>\n",
       "<thead>\n",
       "<tr><th>Name         </th><th>Columns  </th></tr>\n",
       "</thead>\n",
       "<tbody>\n",
       "<tr><td>Study_RIDkey1</td><td>['RID']  </td></tr>\n",
       "</tbody>\n",
       "</table>\n",
       "<br>\n",
       "Foreign Keys:\n",
       "<table>\n",
       "<thead>\n",
       "<tr><th>Name            </th><th>Columns  </th><th>  </th><th>Referenced Table  </th><th>Referenced Columns  </th></tr>\n",
       "</thead>\n",
       "<tbody>\n",
       "<tr><td>Study_Owner_fkey</td><td>['Owner']</td><td>-></td><td>Catalog_Group     </td><td>['ID']              </td></tr>\n",
       "<tr><td>Study_RCB_fkey  </td><td>['RCB']  </td><td>-></td><td>ERMrest_Client    </td><td>['ID']              </td></tr>\n",
       "<tr><td>Study_RMB_fkey  </td><td>['RMB']  </td><td>-></td><td>ERMrest_Client    </td><td>['ID']              </td></tr>\n",
       "</tbody>\n",
       "</table>\n",
       "<br>\n",
       "Referenced By:\n",
       "<table>\n",
       "<thead>\n",
       "<tr><th>Name                       </th><th>Columns  </th><th>  </th><th>                      </th><th>Referenced Columns  </th></tr>\n",
       "</thead>\n",
       "<tbody>\n",
       "<tr><td>Experiment_Study_fkey      </td><td>['RID']  </td><td><-</td><td>Demo:Experiment:      </td><td>['Study']           </td></tr>\n",
       "<tr><td>Collection_Study_Study_fkey</td><td>['RID']  </td><td><-</td><td>Demo:Collection_Study:</td><td>['Study']           </td></tr>\n",
       "</tbody>\n",
       "</table>"
      ],
      "text/plain": [
       "<deriva.utils.catalog.components.configure_catalog.DerivaTableConfigure at 0x10754d358>"
      ]
     },
     "execution_count": 38,
     "metadata": {},
     "output_type": "execute_result"
    },
    {
     "data": {
      "text/html": [
       "<b>Table: Study</b><br>\n",
       "Columns<br>\n",
       "<table>\n",
       "<thead>\n",
       "<tr><th>Name       </th><th>Type       </th><th>NullOK  </th><th>Default  </th></tr>\n",
       "</thead>\n",
       "<tbody>\n",
       "<tr><td>RID        </td><td>ermrest_rid</td><td>False   </td><td>         </td></tr>\n",
       "<tr><td>RCT        </td><td>ermrest_rct</td><td>False   </td><td>         </td></tr>\n",
       "<tr><td>RMT        </td><td>ermrest_rmt</td><td>False   </td><td>         </td></tr>\n",
       "<tr><td>RCB        </td><td>ermrest_rcb</td><td>True    </td><td>         </td></tr>\n",
       "<tr><td>RMB        </td><td>ermrest_rmb</td><td>True    </td><td>         </td></tr>\n",
       "<tr><td>Title      </td><td>text       </td><td>True    </td><td>         </td></tr>\n",
       "<tr><td>Description</td><td>text       </td><td>True    </td><td>         </td></tr>\n",
       "<tr><td>Owner      </td><td>text       </td><td>True    </td><td>         </td></tr>\n",
       "</tbody>\n",
       "</table>\n",
       "<br>\n",
       "Keys:\n",
       "<table>\n",
       "<thead>\n",
       "<tr><th>Name         </th><th>Columns  </th></tr>\n",
       "</thead>\n",
       "<tbody>\n",
       "<tr><td>Study_RIDkey1</td><td>['RID']  </td></tr>\n",
       "</tbody>\n",
       "</table>\n",
       "<br>\n",
       "Foreign Keys:\n",
       "<table>\n",
       "<thead>\n",
       "<tr><th>Name            </th><th>Columns  </th><th>  </th><th>Referenced Table  </th><th>Referenced Columns  </th></tr>\n",
       "</thead>\n",
       "<tbody>\n",
       "<tr><td>Study_Owner_fkey</td><td>['Owner']</td><td>-></td><td>Catalog_Group     </td><td>['ID']              </td></tr>\n",
       "<tr><td>Study_RCB_fkey  </td><td>['RCB']  </td><td>-></td><td>ERMrest_Client    </td><td>['ID']              </td></tr>\n",
       "<tr><td>Study_RMB_fkey  </td><td>['RMB']  </td><td>-></td><td>ERMrest_Client    </td><td>['ID']              </td></tr>\n",
       "</tbody>\n",
       "</table>\n",
       "<br>\n",
       "Referenced By:\n",
       "<table>\n",
       "<thead>\n",
       "<tr><th>Name                       </th><th>Columns  </th><th>  </th><th>                      </th><th>Referenced Columns  </th></tr>\n",
       "</thead>\n",
       "<tbody>\n",
       "<tr><td>Experiment_Study_fkey      </td><td>['RID']  </td><td><-</td><td>Demo:Experiment:      </td><td>['Study']           </td></tr>\n",
       "<tr><td>Collection_Study_Study_fkey</td><td>['RID']  </td><td><-</td><td>Demo:Collection_Study:</td><td>['Study']           </td></tr>\n",
       "</tbody>\n",
       "</table>"
      ],
      "text/plain": [
       "<deriva.utils.catalog.components.configure_catalog.DerivaTableConfigure at 0x10754d358>"
      ]
     },
     "execution_count": 38,
     "metadata": {},
     "output_type": "execute_result"
    }
   ],
   "source": [
    "catalog['Demo']['Study']"
   ]
  },
  {
   "cell_type": "code",
   "execution_count": null,
   "metadata": {},
   "outputs": [],
   "source": [
    "delete_demo_catalog()"
   ]
  }
 ],
 "metadata": {
  "kernelspec": {
   "display_name": "Python 3",
   "language": "python",
   "name": "python3"
  },
  "language_info": {
   "codemirror_mode": {
    "name": "ipython",
    "version": 3
   },
   "file_extension": ".py",
   "mimetype": "text/x-python",
   "name": "python",
   "nbconvert_exporter": "python",
   "pygments_lexer": "ipython3",
   "version": "3.6.7"
  },
  "pycharm": {
   "stem_cell": {
    "cell_type": "raw",
    "metadata": {
     "collapsed": false
    },
    "source": []
   }
  }
 },
 "nbformat": 4,
 "nbformat_minor": 2
}
